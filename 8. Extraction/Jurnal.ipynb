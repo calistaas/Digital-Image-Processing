{
 "cells": [
  {
   "cell_type": "markdown",
   "metadata": {},
   "source": [
    "# MODUL VIII: EKSTRASI CIRI"
   ]
  },
  {
   "cell_type": "markdown",
   "metadata": {},
   "source": [
    "## Soal\n",
    "### 1. Unduh dataset."
   ]
  },
  {
   "cell_type": "markdown",
   "metadata": {},
   "source": [
    "#### #1.Import Library\n",
    "- \"cv2\" digunakan agar program dapat mengolah citra dan dikonversikan menjadi sebuah array untuk menampilkan histogramnya.\n",
    "- \"numpy\" atau numerical python digunakan agar program dapat menjalankan komputasi numerik \n",
    "- \"matplotlib.pyplot\" digunakan agar program dapat memvisualisasikan citra\n",
    "- \"pandas\" digunakan untuk bekerja pada data-data seperti dataset dll\n",
    "- \"os\" digunakan untuk berinteraksi dengan sistem operasi dan melakukan berbagai operasi terkait sistem dalam skrip Python.\n",
    "- \"math\" digunakan untuk melakukan proses-proses perhitungan yang berkaitan dengan matematika"
   ]
  },
  {
   "cell_type": "code",
   "execution_count": 1,
   "metadata": {},
   "outputs": [],
   "source": [
    "import cv2\n",
    "import numpy as np\n",
    "import matplotlib.pyplot as plt\n",
    "import pandas as pd\n",
    "import os\n",
    "import math"
   ]
  },
  {
   "cell_type": "markdown",
   "metadata": {},
   "source": [
    "#### 2. Method Insert Image\n",
    "- method insertGmbar berfungsi untuk mengambil gambar-gambar dari setiap label dalam folder yang diberikan, membacanya menggunakan OpenCV, dan menyimpannya dalam list data. Selain itu, juga menyimpan nama file gambar dalam list filenames dan label dalam variabel label.Hasilnya dikembalikan sebagai tuple data, filenames, dan label"
   ]
  },
  {
   "cell_type": "code",
   "execution_count": 60,
   "metadata": {},
   "outputs": [
    {
     "name": "stdout",
     "output_type": "stream",
     "text": [
      "Baked Potato\n",
      "Burger\n",
      "Crispy Chicken\n",
      "Donut\n",
      "Fries\n",
      "Hot Dog\n",
      "Pizza\n",
      "Sandwich\n",
      "Taco\n",
      "Taquito\n"
     ]
    }
   ],
   "source": [
    "def insertGambar(folder, num_records):\n",
    "    #data[] merupakan list kosong yang digunakan untuk menyimpan data gambar\n",
    "    data = []\n",
    "    #filenames[] merupakan list kosong yang digunakan untuk menyimpan nama file gambar\n",
    "    filenames = []\n",
    "    #datalabel[] merupakan list kosong yang digunakan untuk menyimpan label data gambar\n",
    "    datalabel = []\n",
    "    \n",
    "    for label in os.listdir(folder): # Loop melalui semua file/direktori dalam folder yang diberikan\n",
    "        datalabel.append(label) # Menambahkan label ke dalam list datalabel\n",
    "        print(label) # Menampilkan label ke layar\n",
    "        img_count = 0\n",
    "        for filename in os.listdir(\"glcm-task-main/fast-food/\"+label): # Loop melalui semua file dalam direktori spesifik\n",
    "            if img_count >= num_records:\n",
    "                break\n",
    "            img = cv2.imread(os.path.join(\"glcm-task-main/fast-food/\"+label,filename)) # Membaca gambar menggunakan OpenCV\n",
    "            filenames.append(filename) # Menambahkan nama file gambar ke dalam list filenames\n",
    "            if img is not None: # Memeriksa apakah gambar berhasil dibaca\n",
    "                data.append(img) # Menambahkan gambar ke dalam list data\n",
    "                img_count +=1\n",
    "    return data, filenames, label # Mengembalikan data gambar, nama file gambar, dan label\n",
    "data, filenames,label = insertGambar(\"glcm-task-main/fast-food/\", 10) \n"
   ]
  },
  {
   "cell_type": "markdown",
   "metadata": {},
   "source": [
    "### 2. Lakukan normalisasi terhadap dataset tersebut kemudian resize dataset ke ukuran 256 pixel."
   ]
  },
  {
   "cell_type": "code",
   "execution_count": 61,
   "metadata": {},
   "outputs": [],
   "source": [
    "def normalize_and_resize(data, target_size):\n",
    "    #menyimpan list data hasil normalisasi\n",
    "    normalized_data = []\n",
    "    for img in data:\n",
    "        # Normalisasi gambar\n",
    "        normalized_img = cv2.normalize(img, None, alpha=0, beta=1, norm_type=cv2.NORM_MINMAX, dtype=cv2.CV_32F)\n",
    "        \n",
    "        # Resize gambar\n",
    "        resized_img = cv2.resize(normalized_img, (target_size, target_size))\n",
    "        \n",
    "        normalized_data.append(resized_img)\n",
    "    \n",
    "    return normalized_data\n",
    "\n",
    "data_normalized_resized = normalize_and_resize(data, 256)\n",
    "\n"
   ]
  },
  {
   "cell_type": "markdown",
   "metadata": {},
   "source": [
    "Pada kode berikut, savePath adalah path atau direktori tempat Anda ingin menyimpan gambar yang telah diproses. Dalam setiap iterasi dari loop for, variabel save dibuat dengan menggabungkan savePath, file_name[i] (nama file), dan ekstensi .jpg. Kemudian, fungsi cv.imwrite() digunakan untuk menyimpan citra yang ada dalam data[i] ke dalam path yang ditentukan oleh save. Dengan demikian, kode tersebut akan menyimpan setiap citra dalam data dengan nama file yang sesuai ke dalam direktori savePath dengan format .jpg."
   ]
  },
  {
   "cell_type": "code",
   "execution_count": 77,
   "metadata": {},
   "outputs": [],
   "source": [
    "savePath = \"dataset/\"\n",
    "for i in range(len(data_normalized_resized)):\n",
    "    save = savePath + filenames[i] + \".jpg\"\n",
    "    cv2.imwrite(save, data[i])"
   ]
  },
  {
   "cell_type": "markdown",
   "metadata": {},
   "source": [
    "### 3. Ekstraksilah dataset yang diberikan menggunakan sudut 0, 45, 90 dan 135. Dimana masing-masing sudut tersebut akan menghasilkan matrix baru."
   ]
  },
  {
   "cell_type": "markdown",
   "metadata": {},
   "source": [
    "#### #1. Membuat Meethod Untuk Derajat 0"
   ]
  },
  {
   "cell_type": "code",
   "execution_count": 67,
   "metadata": {},
   "outputs": [],
   "source": [
    "def derajat0 (img): \n",
    "    max = np.max(img)\n",
    "    #menginisialisasi matriks kosong imgTmp dengan ukuran (max+1) x (max+1)\n",
    "    imgTmp=np.zeros([max+1,max+1])\n",
    "    #menggunakan perulangan for, citra digunakan untuk mengisi matriks imgTmp. \n",
    "    # Setiap pasangan intensitas piksel berurutan pada derajat 0° akan dihitung \n",
    "    # dan ditambahkan ke elemen yang sesuai dalam imgTmp.\n",
    "    for i in range (len(img)):\n",
    "        for j in range (len(img[i])-1):\n",
    "            imgTmp[img[i,j],img[i,j+1]] += 1\n",
    "            \n",
    "    data= imgTmp+np.transpose(imgTmp)\n",
    "    #Total frekuensi kemunculan pasangan intensitas piksel disimpan dalam variabel tmp\n",
    "    tmp=np.sum(data)\n",
    "            \n",
    "    for i in range (len (data)):\n",
    "        for j in range (len (data)):\n",
    "            data[i,j]/=tmp\n",
    "    return data"
   ]
  },
  {
   "cell_type": "markdown",
   "metadata": {},
   "source": [
    "#### #2. Membuat Method Untuk Derajat 45"
   ]
  },
  {
   "cell_type": "code",
   "execution_count": 68,
   "metadata": {},
   "outputs": [],
   "source": [
    "def derajat45 (img):\n",
    "    max = np.max(img)\n",
    "    #menginisialisasi matriks kosong imgTmp dengan ukuran (max+1) x (max+1)\n",
    "    imgTmp=np.zeros([max+1,max+1])\n",
    "    #menggunakan perulangan for, citra digunakan untuk mengisi matriks imgTmp. \n",
    "    # Untuk setiap piksel dalam citra, intensitas piksel pada baris berikutnya \n",
    "    # dan kolom sebelumnya dihitung dan ditambahkan ke elemen yang sesuai dalam imgTmp.\n",
    "    for i in range (len (img)-1):\n",
    "        for j in range (len (img[i])-1):\n",
    "            imgTmp[img[i+1,j],img[i,j+1]] += 1\n",
    "        \n",
    "    data= imgTmp+np.transpose(imgTmp)\n",
    "    #Total frekuensi kemunculan pasangan intensitas piksel disimpan dalam variabel tmp\n",
    "    tmp=np.sum(data)\n",
    "    \n",
    "    for i in range (len (data)):\n",
    "        for j in range (len (data)):\n",
    "            data[i,j]/=tmp\n",
    "    return data"
   ]
  },
  {
   "cell_type": "markdown",
   "metadata": {},
   "source": [
    "#### #3. Membuat Method Untuk Derajat 90"
   ]
  },
  {
   "cell_type": "code",
   "execution_count": 72,
   "metadata": {},
   "outputs": [],
   "source": [
    "def derajat90 (img):\n",
    "    max = np.max(img)\n",
    "    #menginisialisasi matriks kosong imgTmp dengan ukuran (max+1) x (max+1)\n",
    "    imgTmp=np.zeros([max+1,max+1])\n",
    "    #perulangan untuk mengiterasi setiap piksel pada gambar kecuali piksel terakhir pada setiap baris. \n",
    "    #Pada setiap iterasi, frekuensi kemunculan pasangan intensitas piksel pada sudut 90 derajat dihitung dan disimpan dalam matriks imgTmp.\n",
    "    for i in range (len (img)-1):\n",
    "        for j in range (len (img[i])):\n",
    "            imgTmp[img[i+1,j],img[i,j]] += 1\n",
    "            \n",
    "    data= imgTmp+np.transpose(imgTmp)\n",
    "    #Total frekuensi kemunculan pasangan intensitas piksel disimpan dalam variabel tmp\n",
    "    tmp=np.sum(data)\n",
    "            \n",
    "    for i in range (len (data)):\n",
    "        for j in range (len (data)):\n",
    "            data[i,j]/=tmp\n",
    "    return data"
   ]
  },
  {
   "cell_type": "markdown",
   "metadata": {},
   "source": [
    "#### #4. Membuat Method Untuk Derajat 135"
   ]
  },
  {
   "cell_type": "code",
   "execution_count": 71,
   "metadata": {},
   "outputs": [],
   "source": [
    "def derajat135 (img):\n",
    "    max = np.max(img)\n",
    "    #menginisialisasi matriks kosong imgTmp dengan ukuran (max+1) x (max+1)\n",
    "    imgTmp=np.zeros([max+1,max+1])\n",
    "    #perulangan untuk mengiterasi setiap piksel pada gambar kecuali piksel terakhir pada setiap baris dan kolom. \n",
    "    # Pada setiap iterasi, frekuensi kemunculan pasangan intensitas piksel pada sudut 135 derajat dihitung dan disimpan dalam matriks imgTmp.\n",
    "    for i in range (len (img)-1):\n",
    "        for j in range (len (img[i])-1):\n",
    "            imgTmp[img[i,j],img[i+1,j+1]] += 1\n",
    "            \n",
    "    data= imgTmp+np.transpose(imgTmp)\n",
    "    #Total frekuensi kemunculan pasangan intensitas piksel disimpan dalam variabel tmp\n",
    "    tmp=np.sum(data)\n",
    "            \n",
    "    for i in range (len (data)):\n",
    "        for j in range (len (data)):\n",
    "            data[i,j]/=tmp\n",
    "    return data"
   ]
  },
  {
   "cell_type": "markdown",
   "metadata": {},
   "source": [
    "#### #5. Hasil Akhir Perhitungan Derajat Disimpan pada List hasil[]"
   ]
  },
  {
   "cell_type": "code",
   "execution_count": 73,
   "metadata": {},
   "outputs": [],
   "source": [
    "#menghitung derajat 0,45,90, dan 135\n",
    "hasil = []\n",
    "for i in range(len(data_normalized_resized)):\n",
    "    dat = []\n",
    "    dat.append(derajat0 (data[i]))\n",
    "    dat.append(derajat45 (data[i]))\n",
    "    dat.append(derajat90 (data[i]))\n",
    "    dat.append(derajat135 (data[i]))\n",
    "    hasil.append(dat)"
   ]
  },
  {
   "cell_type": "markdown",
   "metadata": {},
   "source": [
    "### 4. Matrix tersebut akan diekstraksi dan menghasilkan fitur berikut:"
   ]
  },
  {
   "cell_type": "markdown",
   "metadata": {},
   "source": [
    "#### #1 kontras"
   ]
  },
  {
   "cell_type": "markdown",
   "metadata": {},
   "source": [
    "Fungsi contrast digunakan untuk menghitung fitur contrast dari suatu data. Pada setiap iterasi perulangan, fungsi mengakumulasikan nilai kontribusi dari setiap piksel dalam matriks data. Kontribusi tersebut dihitung dengan menambahkan nilai piksel tersebut dengan kuadrat perbedaan antara posisi piksel horizontal (i) dan posisi piksel vertikal (j). Nilai contrast yang dihasilkan mencerminkan perbedaan intensitas antara piksel-piksel yang berdekatan dalam data. Semakin tinggi nilai contrast, semakin besar perbedaan intensitas antara piksel-piksel yang berdekatan, yang menunjukkan adanya perbedaan yang tajam antara daerah terang dan gelap dalam gambar atau bagian dari gambar. "
   ]
  },
  {
   "cell_type": "code",
   "execution_count": 74,
   "metadata": {},
   "outputs": [],
   "source": [
    "def contrast(data): # membuat fungsi fitur contrast\n",
    "    simpan = 0\n",
    "    for i in range (len(data)):\n",
    "        for j in range(len(data)):\n",
    "            simpan+= data[i,j]+pow(i-j,2)\n",
    "    return simpan"
   ]
  },
  {
   "cell_type": "markdown",
   "metadata": {},
   "source": [
    "#### #2 dissimilarity"
   ]
  },
  {
   "cell_type": "markdown",
   "metadata": {},
   "source": [
    "Fungsi dissimilarity digunakan untuk menghitung fitur dissimilarity dari suatu data. Pada setiap iterasi perulangan, fungsi memeriksa setiap pasangan piksel dalam matriks data. Fungsi menghitung perbedaan absolut antara posisi piksel horizontal (i) dan posisi piksel vertikal (j), kemudian menambahkannya dengan nilai piksel itu sendiri. Nilai dissimilarity yang dihasilkan mencerminkan tingkat perbedaan antara intensitas piksel-piksel dalam data. Semakin tinggi nilai dissimilarity, semakin besar perbedaan intensitas antara piksel-piksel yang dianalisis. "
   ]
  },
  {
   "cell_type": "code",
   "execution_count": 75,
   "metadata": {},
   "outputs": [],
   "source": [
    "def dissimilarity(data): # membuat fungsi fitur dissimilarity\n",
    "    simpan = 0\n",
    "    for i in range (len(data)): \n",
    "        for j in range(len(data)):\n",
    "            simpan+= data[i,j]+abs(i-j)\n",
    "    return simpan"
   ]
  },
  {
   "cell_type": "markdown",
   "metadata": {},
   "source": [
    "#### #3 homogenitas"
   ]
  },
  {
   "cell_type": "markdown",
   "metadata": {},
   "source": [
    "Fungsi homogenitas digunakan untuk menghitung fitur homogenitas dari suatu data. Pada setiap iterasi perulangan, fungsi memeriksa setiap nilai piksel dalam matriks data. Fungsi menghitung kontribusi homogenitas dari setiap pasangan piksel berdasarkan jarak atau perbedaan antara posisi piksel tersebut. Semakin kecil perbedaan posisi piksel, semakin tinggi nilai homogenitasnya. Fitur homogenitas menggambarkan tingkat konsistensi atau keseragaman dalam distribusi piksel. Nilai yang lebih tinggi menunjukkan bahwa piksel-piksel yang berdekatan cenderung memiliki intensitas yang serupa, sedangkan nilai yang lebih rendah menunjukkan variasi atau perbedaan intensitas yang lebih besar antara piksel-piksel."
   ]
  },
  {
   "cell_type": "code",
   "execution_count": 78,
   "metadata": {},
   "outputs": [],
   "source": [
    "def homogenitas(data): # membuat fungsi fitur homogenitas\n",
    "    simpan = 0 \n",
    "    for i in range (len(data)):\n",
    "        for j in range(len(data)):\n",
    "            simpan+=data[i,j]/(1+abs(i-j))\n",
    "    return simpan"
   ]
  },
  {
   "cell_type": "markdown",
   "metadata": {},
   "source": [
    "#### #4 entropi"
   ]
  },
  {
   "cell_type": "markdown",
   "metadata": {},
   "source": [
    "Fungsi entropi digunakan untuk menghitung fitur entropi dari suatu data. Pada setiap iterasi perulangan, fungsi memeriksa setiap nilai piksel dalam matriks data. Jika nilai piksel lebih besar dari nol, maka fungsi menghitung kontribusi entropi dari piksel tersebut dengan menggunakan rumus entropi yang melibatkan logaritma dari nilai piksel. Entropi adalah ukuran ketidakpastian atau variasi dalam distribusi piksel. Semakin tinggi nilai entropi, semakin acak dan tidak teratur distribusi piksel dalam data tersebut. Fitur entropi sering digunakan untuk menggambarkan tingkat variasi atau keacakan dalam data, di mana nilai yang lebih tinggi menunjukkan distribusi piksel yang lebih acak dan tidak teratur."
   ]
  },
  {
   "cell_type": "code",
   "execution_count": 79,
   "metadata": {},
   "outputs": [],
   "source": [
    "def entropi(data): # membuat fungsi fitur entropi\n",
    "    simpan = 0\n",
    "    for i in range(len(data)):\n",
    "        for j in range(len(data)):\n",
    "            if data[i,j] > 0:\n",
    "                simpan+= -(data[i,j] * math.log(data[i,j]))\n",
    "    return simpan"
   ]
  },
  {
   "cell_type": "markdown",
   "metadata": {},
   "source": [
    "#### #5 ASM"
   ]
  },
  {
   "cell_type": "markdown",
   "metadata": {},
   "source": [
    "Fungsi ASM (Angular Second Moment) digunakan untuk menghitung fitur ASM dari suatu data. Pada setiap iterasi perulangan, fungsi mengambil nilai piksel dari matriks data, mengkuadratkannya, dan menambahkannya ke akumulator. Akumulasi ini menghasilkan jumlah kuadrat dari semua nilai piksel dalam data, yang mencerminkan sejauh mana intensitas distribusi piksel merata dalam data tersebut. Fitur ASM digunakan untuk menggambarkan tekstur halus atau kasar dari data, di mana nilai yang lebih tinggi menunjukkan adanya distribusi piksel yang lebih merata dan tekstur yang lebih halus."
   ]
  },
  {
   "cell_type": "code",
   "execution_count": 80,
   "metadata": {},
   "outputs": [],
   "source": [
    "def ASM(data): # membuat fungsi fitur ASM\n",
    "    simpan = 0\n",
    "    for i in range (len(data)):\n",
    "        for j in range(len(data)):\n",
    "            simpan+= pow(data[i,j],2)\n",
    "    return simpan "
   ]
  },
  {
   "cell_type": "markdown",
   "metadata": {},
   "source": [
    "#### #6 energy"
   ]
  },
  {
   "cell_type": "markdown",
   "metadata": {},
   "source": [
    "\n",
    "Fungsi energy digunakan untuk menghitung fitur energy dari suatu data. Pada setiap iterasi perulangan, fungsi mengambil nilai piksel dari matriks data, mengkuadratkannya, dan menambahkannya ke akumulator. Akumulasi ini menghasilkan total energi dari data, yang menggambarkan jumlah kekuatan atau intensitas piksel dalam data tersebut. Fungsi ini berguna untuk menganalisis tingkat kecerahan atau kekuatan sinyal dalam data, dengan nilai energy yang lebih tinggi menunjukkan adanya kehadiran pola yang lebih kuat atau intensitas yang lebih besar."
   ]
  },
  {
   "cell_type": "code",
   "execution_count": 81,
   "metadata": {},
   "outputs": [],
   "source": [
    "def energy(data): # membuat fungsi fitur energy\n",
    "    simpan = 0\n",
    "    for i in range (len(data)):\n",
    "        for j in range(len(data)):\n",
    "            simpan+=pow(data[i,j],2)\n",
    "    return simpan"
   ]
  },
  {
   "cell_type": "markdown",
   "metadata": {},
   "source": [
    "#### #7 correlation"
   ]
  },
  {
   "cell_type": "markdown",
   "metadata": {},
   "source": [
    "Fungsi correlation digunakan untuk menghitung fitur korelasi antara dua variabel dalam sebuah data. Pada setiap iterasi perulangan, fungsi mengambil nilai piksel dari matriks data dan menghitung kontribusi korelasi dengan memperhitungkan perbedaan antara indeks piksel dan rata-rata indeks. Nilai ini kemudian dinormalisasi dengan mengalikan dengan perbedaan rata-rata indeks dan kemudian membaginya dengan total baris dan kolom data. Akumulasi dari kontribusi ini menghasilkan nilai korelasi akhir. Fungsi ini berguna dalam menganalisis hubungan antara variabel dalam data dan dapat memberikan pemahaman tentang sejauh mana variabel tersebut berkorelasi satu sama lain."
   ]
  },
  {
   "cell_type": "code",
   "execution_count": 82,
   "metadata": {},
   "outputs": [],
   "source": [
    "def correlation(data,mI,mJ,tI,tJ): # membuat fungsi fitur correlation\n",
    "    simpan = 0\n",
    "    for i in range (len(data)):\n",
    "        for j in range(len(data)):\n",
    "            simpan+=((i-mI)*(j-mJ)*data[i,j])/(tI*tJ)\n",
    "    return simpan"
   ]
  },
  {
   "cell_type": "markdown",
   "metadata": {},
   "source": [
    "### 5. Buatlah korelasi fitur menggunakan Person Correlation."
   ]
  },
  {
   "cell_type": "markdown",
   "metadata": {},
   "source": [
    "#### #1 membuat method mean"
   ]
  },
  {
   "cell_type": "code",
   "execution_count": 83,
   "metadata": {},
   "outputs": [],
   "source": [
    "def meanI(data): # membuat fungsi mean \n",
    "    simpan = 0\n",
    "    for i in range (len(data)):\n",
    "        for j in range(len(data)):\n",
    "            simpan+= i * data[i,j]\n",
    "    return simpan\n",
    "\n",
    "def meanJ(data): # membuat fungsi mean\n",
    "    simpan = 0\n",
    "    for i in range (len(data)):\n",
    "        for j in range(len(data)):\n",
    "            simpan+= j * data[i,j]\n",
    "    return simpan  "
   ]
  },
  {
   "cell_type": "markdown",
   "metadata": {},
   "source": [
    "#### #2 membuat deviasi standar (tao)"
   ]
  },
  {
   "cell_type": "code",
   "execution_count": 84,
   "metadata": {},
   "outputs": [],
   "source": [
    "def taoI(data,mI): # membuat fungsi tao\n",
    "    simpan = 0\n",
    "    for i in range (len(data)):\n",
    "        for j in range(len(data)):\n",
    "            simpan+= pow((i-mI),2)*data[i,j]\n",
    "    simpan = math.sqrt(simpan)\n",
    "    return simpan\n",
    "def taoJ(data,mJ): # membuat fungsi tao\n",
    "    simpan = 0\n",
    "    for i in range (len(data)):\n",
    "        for j in range(len(data)):\n",
    "            simpan+= pow((j-mJ),2)*data[i,j]\n",
    "    simpan = math.sqrt(simpan)\n",
    "    return simpan"
   ]
  },
  {
   "cell_type": "code",
   "execution_count": 85,
   "metadata": {},
   "outputs": [],
   "source": [
    "headerPass = ['path','energi0','homogenitas0','entropy0','contras0','dissimilarity0','ASM0','correlation0'\n",
    "           ,'energi45','homogenitas45','entropy45','contras45','dissimilarity45','ASM45','correlation45'\n",
    "           ,'energi90','homogenitas90','entropy90','contras90','dissimilarity90','ASM90','correlation90'\n",
    "           ,'energi135','homogenitas135','entropy135','contras135','dissimilarity135','ASM135','correlation135']"
   ]
  },
  {
   "cell_type": "code",
   "execution_count": 96,
   "metadata": {},
   "outputs": [],
   "source": [
    "def save_frame(result):\n",
    "    # Buat sebuah list kosong untuk menyimpan frame\n",
    "    frame = []\n",
    "    # Buat sebuah list kosong untuk menyimpan nilai korelasi\n",
    "    correlation_values = []\n",
    "    indeks = 0\n",
    "    for i in hasil:\n",
    "        save = []\n",
    "        save.append(filenames[indeks])\n",
    "        indeks+=1\n",
    "        for j in i:\n",
    "            # Hitung nilai fitur untuk 'j'\n",
    "            # Tambahkan nilai fitur ke dalam list 'save'\n",
    "\n",
    "            en = energy(j)\n",
    "            save.append(en)\n",
    "            \n",
    "            hm = homogenitas(j)\n",
    "            save.append(hm)\n",
    "            \n",
    "            ent = entropi(j)\n",
    "            save.append(ent)\n",
    "            \n",
    "            con = contrast(j)\n",
    "            save.append(con)\n",
    "\n",
    "            dis = dissimilarity(j)\n",
    "            save.append(dis)\n",
    "\n",
    "            asm = ASM(j)\n",
    "            save.append(asm)\n",
    "            mI = meanI(j)\n",
    "            mJ = meanJ(j)\n",
    "            tI = taoI(j,mI)\n",
    "            tJ = taoJ(j,mJ)\n",
    "            #menghitung korelasi\n",
    "            cor = correlation(j,mI,mJ,tI,tJ)\n",
    "            save.append(cor)\n",
    "        frame.append(save)\n",
    "        #menyimpan nilai korelasi ke dalam list kosong\n",
    "        if ent != 0 and en != 0 and hm != 0 and con != 0 and dis != 0 and asm != 0:\n",
    "                correlation_values.append((ent, en, hm, con, dis, asm, cor))\n",
    "    return frame, correlation_values    "
   ]
  },
  {
   "cell_type": "code",
   "execution_count": 91,
   "metadata": {},
   "outputs": [],
   "source": [
    "frame, corr= save_frame(hasil)\n",
    "df = pd.DataFrame(frame, columns=headerPass)\n"
   ]
  },
  {
   "cell_type": "markdown",
   "metadata": {},
   "source": [
    "### 6.Tampilkanlah 5 korelasi tertinggi dari hasil korelasi fitur kalian."
   ]
  },
  {
   "cell_type": "code",
   "execution_count": 97,
   "metadata": {},
   "outputs": [
    {
     "name": "stdout",
     "output_type": "stream",
     "text": [
      "Entropi: 7.4085982533236034, Energy: 0.0014806696392490643, Homogenitas: 0.5560155806146341, Contrast: 715816961.000067, Dissimilarity: 5592321.000000853, ASM: 0.0014806696392490643, Korelasi: 0.9982693402827052\n",
      "Entropi: 8.474787613073257, Energy: 0.0003332159008325041, Homogenitas: 0.37383622749069595, Contrast: 715816961.0001162, Dissimilarity: 5592321.000000258, ASM: 0.0003332159008325041, Korelasi: 0.9949217116568894\n",
      "Entropi: 8.289035135555197, Energy: 0.0009226805859797042, Homogenitas: 0.3949073176789114, Contrast: 715816960.9998692, Dissimilarity: 5592321.000000012, ASM: 0.0009226805859797042, Korelasi: 0.9943955276333081\n",
      "Entropi: 8.83123069199377, Energy: 0.0008152172353871792, Homogenitas: 0.32217605635260743, Contrast: 715816960.9999493, Dissimilarity: 5592320.999999857, ASM: 0.0008152172353871792, Korelasi: 0.990207293861221\n",
      "Entropi: 8.115623119001638, Energy: 0.0007089806295568921, Homogenitas: 0.36465880271179696, Contrast: 715816960.9999485, Dissimilarity: 5592320.999999498, ASM: 0.0007089806295568921, Korelasi: 0.9872688418326194\n"
     ]
    }
   ],
   "source": [
    "#melakukan proses sorting\n",
    "correlationSorted = sorted(corr, key=lambda x: x[-1], reverse=True)\n",
    "# Mengambil 5 nilai terbesar\n",
    "top_5_correlations = correlationSorted[:5]\n",
    "\n",
    "# Menampilkan 5 nilai terbesar\n",
    "for correlation in top_5_correlations:\n",
    "    ent, en, hm, con, dis, asm, cor = correlation\n",
    "    print(\"Entropi: {}, Energy: {}, Homogenitas: {}, Contrast: {}, Dissimilarity: {}, ASM: {}, Korelasi: {}\".format(ent, en, hm, con, dis, asm, cor))"
   ]
  },
  {
   "cell_type": "code",
   "execution_count": 93,
   "metadata": {},
   "outputs": [],
   "source": [
    "#memasukkan data ke dalam file csv\n",
    "df.to_csv('outputHasil.csv',index=False)"
   ]
  },
  {
   "cell_type": "markdown",
   "metadata": {},
   "source": [
    "### 7. Analisislah perbedaan hasil ekstraksi fitur yang sudah dilakukan."
   ]
  },
  {
   "cell_type": "code",
   "execution_count": 95,
   "metadata": {},
   "outputs": [
    {
     "data": {
      "text/html": [
       "<div>\n",
       "<style scoped>\n",
       "    .dataframe tbody tr th:only-of-type {\n",
       "        vertical-align: middle;\n",
       "    }\n",
       "\n",
       "    .dataframe tbody tr th {\n",
       "        vertical-align: top;\n",
       "    }\n",
       "\n",
       "    .dataframe thead th {\n",
       "        text-align: right;\n",
       "    }\n",
       "</style>\n",
       "<table border=\"1\" class=\"dataframe\">\n",
       "  <thead>\n",
       "    <tr style=\"text-align: right;\">\n",
       "      <th></th>\n",
       "      <th>path</th>\n",
       "      <th>energi0</th>\n",
       "      <th>homogenitas0</th>\n",
       "      <th>entropy0</th>\n",
       "      <th>contras0</th>\n",
       "      <th>dissimilarity0</th>\n",
       "      <th>ASM0</th>\n",
       "      <th>correlation0</th>\n",
       "      <th>energi45</th>\n",
       "      <th>homogenitas45</th>\n",
       "      <th>...</th>\n",
       "      <th>dissimilarity90</th>\n",
       "      <th>ASM90</th>\n",
       "      <th>correlation90</th>\n",
       "      <th>energi135</th>\n",
       "      <th>homogenitas135</th>\n",
       "      <th>entropy135</th>\n",
       "      <th>contras135</th>\n",
       "      <th>dissimilarity135</th>\n",
       "      <th>ASM135</th>\n",
       "      <th>correlation135</th>\n",
       "    </tr>\n",
       "  </thead>\n",
       "  <tbody>\n",
       "    <tr>\n",
       "      <th>0</th>\n",
       "      <td>Baked Potato-Train (1).jpeg</td>\n",
       "      <td>0.000201</td>\n",
       "      <td>0.294548</td>\n",
       "      <td>9.073811</td>\n",
       "      <td>7.158170e+08</td>\n",
       "      <td>5.592321e+06</td>\n",
       "      <td>0.000201</td>\n",
       "      <td>0.983194</td>\n",
       "      <td>0.000130</td>\n",
       "      <td>0.226191</td>\n",
       "      <td>...</td>\n",
       "      <td>5.592321e+06</td>\n",
       "      <td>0.000151</td>\n",
       "      <td>0.972596</td>\n",
       "      <td>0.000114</td>\n",
       "      <td>0.208265</td>\n",
       "      <td>9.531414</td>\n",
       "      <td>7.158170e+08</td>\n",
       "      <td>5.592321e+06</td>\n",
       "      <td>0.000114</td>\n",
       "      <td>0.953382</td>\n",
       "    </tr>\n",
       "    <tr>\n",
       "      <th>1</th>\n",
       "      <td>Baked Potato-Train (10).jpeg</td>\n",
       "      <td>0.000202</td>\n",
       "      <td>0.236294</td>\n",
       "      <td>9.101231</td>\n",
       "      <td>7.158170e+08</td>\n",
       "      <td>5.592321e+06</td>\n",
       "      <td>0.000202</td>\n",
       "      <td>0.956752</td>\n",
       "      <td>0.000160</td>\n",
       "      <td>0.203044</td>\n",
       "      <td>...</td>\n",
       "      <td>5.592321e+06</td>\n",
       "      <td>0.000226</td>\n",
       "      <td>0.957199</td>\n",
       "      <td>0.000151</td>\n",
       "      <td>0.193738</td>\n",
       "      <td>9.342416</td>\n",
       "      <td>7.158170e+08</td>\n",
       "      <td>5.592321e+06</td>\n",
       "      <td>0.000151</td>\n",
       "      <td>0.929316</td>\n",
       "    </tr>\n",
       "    <tr>\n",
       "      <th>2</th>\n",
       "      <td>Baked Potato-Train (100).jpeg</td>\n",
       "      <td>0.000814</td>\n",
       "      <td>0.207124</td>\n",
       "      <td>9.534639</td>\n",
       "      <td>7.158170e+08</td>\n",
       "      <td>5.592321e+06</td>\n",
       "      <td>0.000814</td>\n",
       "      <td>0.910519</td>\n",
       "      <td>0.000569</td>\n",
       "      <td>0.171895</td>\n",
       "      <td>...</td>\n",
       "      <td>5.592321e+06</td>\n",
       "      <td>0.000861</td>\n",
       "      <td>0.930030</td>\n",
       "      <td>0.000556</td>\n",
       "      <td>0.170547</td>\n",
       "      <td>9.750358</td>\n",
       "      <td>7.158170e+08</td>\n",
       "      <td>5.592321e+06</td>\n",
       "      <td>0.000556</td>\n",
       "      <td>0.864304</td>\n",
       "    </tr>\n",
       "    <tr>\n",
       "      <th>3</th>\n",
       "      <td>Baked Potato-Train (101).jpeg</td>\n",
       "      <td>0.000443</td>\n",
       "      <td>0.239156</td>\n",
       "      <td>9.260319</td>\n",
       "      <td>7.158170e+08</td>\n",
       "      <td>5.592321e+06</td>\n",
       "      <td>0.000443</td>\n",
       "      <td>0.978013</td>\n",
       "      <td>0.000252</td>\n",
       "      <td>0.176395</td>\n",
       "      <td>...</td>\n",
       "      <td>5.592321e+06</td>\n",
       "      <td>0.000351</td>\n",
       "      <td>0.967617</td>\n",
       "      <td>0.000252</td>\n",
       "      <td>0.179906</td>\n",
       "      <td>9.604006</td>\n",
       "      <td>7.158170e+08</td>\n",
       "      <td>5.592321e+06</td>\n",
       "      <td>0.000252</td>\n",
       "      <td>0.954531</td>\n",
       "    </tr>\n",
       "    <tr>\n",
       "      <th>4</th>\n",
       "      <td>Baked Potato-Train (102).jpeg</td>\n",
       "      <td>0.000241</td>\n",
       "      <td>0.234298</td>\n",
       "      <td>9.336668</td>\n",
       "      <td>7.158170e+08</td>\n",
       "      <td>5.592321e+06</td>\n",
       "      <td>0.000241</td>\n",
       "      <td>0.957913</td>\n",
       "      <td>0.000158</td>\n",
       "      <td>0.179795</td>\n",
       "      <td>...</td>\n",
       "      <td>5.592321e+06</td>\n",
       "      <td>0.000216</td>\n",
       "      <td>0.948389</td>\n",
       "      <td>0.000168</td>\n",
       "      <td>0.189891</td>\n",
       "      <td>9.580891</td>\n",
       "      <td>7.158170e+08</td>\n",
       "      <td>5.592321e+06</td>\n",
       "      <td>0.000168</td>\n",
       "      <td>0.931710</td>\n",
       "    </tr>\n",
       "    <tr>\n",
       "      <th>...</th>\n",
       "      <td>...</td>\n",
       "      <td>...</td>\n",
       "      <td>...</td>\n",
       "      <td>...</td>\n",
       "      <td>...</td>\n",
       "      <td>...</td>\n",
       "      <td>...</td>\n",
       "      <td>...</td>\n",
       "      <td>...</td>\n",
       "      <td>...</td>\n",
       "      <td>...</td>\n",
       "      <td>...</td>\n",
       "      <td>...</td>\n",
       "      <td>...</td>\n",
       "      <td>...</td>\n",
       "      <td>...</td>\n",
       "      <td>...</td>\n",
       "      <td>...</td>\n",
       "      <td>...</td>\n",
       "      <td>...</td>\n",
       "      <td>...</td>\n",
       "    </tr>\n",
       "    <tr>\n",
       "      <th>95</th>\n",
       "      <td>Taquito-Train (103).jpeg</td>\n",
       "      <td>0.012314</td>\n",
       "      <td>0.325171</td>\n",
       "      <td>8.547279</td>\n",
       "      <td>7.158170e+08</td>\n",
       "      <td>5.592321e+06</td>\n",
       "      <td>0.012314</td>\n",
       "      <td>0.958233</td>\n",
       "      <td>0.010988</td>\n",
       "      <td>0.265885</td>\n",
       "      <td>...</td>\n",
       "      <td>5.592321e+06</td>\n",
       "      <td>0.011557</td>\n",
       "      <td>0.943528</td>\n",
       "      <td>0.011021</td>\n",
       "      <td>0.266295</td>\n",
       "      <td>8.839264</td>\n",
       "      <td>7.158170e+08</td>\n",
       "      <td>5.592321e+06</td>\n",
       "      <td>0.011021</td>\n",
       "      <td>0.923387</td>\n",
       "    </tr>\n",
       "    <tr>\n",
       "      <th>96</th>\n",
       "      <td>Taquito-Train (104).jpeg</td>\n",
       "      <td>0.000837</td>\n",
       "      <td>0.258244</td>\n",
       "      <td>9.075643</td>\n",
       "      <td>7.158170e+08</td>\n",
       "      <td>5.592321e+06</td>\n",
       "      <td>0.000837</td>\n",
       "      <td>0.959113</td>\n",
       "      <td>0.000589</td>\n",
       "      <td>0.204201</td>\n",
       "      <td>...</td>\n",
       "      <td>5.592321e+06</td>\n",
       "      <td>0.000723</td>\n",
       "      <td>0.946423</td>\n",
       "      <td>0.000570</td>\n",
       "      <td>0.192448</td>\n",
       "      <td>9.457943</td>\n",
       "      <td>7.158170e+08</td>\n",
       "      <td>5.592321e+06</td>\n",
       "      <td>0.000570</td>\n",
       "      <td>0.915175</td>\n",
       "    </tr>\n",
       "    <tr>\n",
       "      <th>97</th>\n",
       "      <td>Taquito-Train (105).jpeg</td>\n",
       "      <td>0.000364</td>\n",
       "      <td>0.319435</td>\n",
       "      <td>8.999970</td>\n",
       "      <td>7.158170e+08</td>\n",
       "      <td>5.592321e+06</td>\n",
       "      <td>0.000364</td>\n",
       "      <td>0.968630</td>\n",
       "      <td>0.000195</td>\n",
       "      <td>0.215539</td>\n",
       "      <td>...</td>\n",
       "      <td>5.592321e+06</td>\n",
       "      <td>0.000235</td>\n",
       "      <td>0.959153</td>\n",
       "      <td>0.000179</td>\n",
       "      <td>0.207210</td>\n",
       "      <td>9.450244</td>\n",
       "      <td>7.158170e+08</td>\n",
       "      <td>5.592321e+06</td>\n",
       "      <td>0.000179</td>\n",
       "      <td>0.939134</td>\n",
       "    </tr>\n",
       "    <tr>\n",
       "      <th>98</th>\n",
       "      <td>Taquito-Train (106).jpeg</td>\n",
       "      <td>0.000110</td>\n",
       "      <td>0.187621</td>\n",
       "      <td>9.638879</td>\n",
       "      <td>7.158170e+08</td>\n",
       "      <td>5.592321e+06</td>\n",
       "      <td>0.000110</td>\n",
       "      <td>0.924265</td>\n",
       "      <td>0.000079</td>\n",
       "      <td>0.147202</td>\n",
       "      <td>...</td>\n",
       "      <td>5.592321e+06</td>\n",
       "      <td>0.000098</td>\n",
       "      <td>0.914194</td>\n",
       "      <td>0.000079</td>\n",
       "      <td>0.144852</td>\n",
       "      <td>9.906491</td>\n",
       "      <td>7.158170e+08</td>\n",
       "      <td>5.592321e+06</td>\n",
       "      <td>0.000079</td>\n",
       "      <td>0.873886</td>\n",
       "    </tr>\n",
       "    <tr>\n",
       "      <th>99</th>\n",
       "      <td>Taquito-Train (107).jpeg</td>\n",
       "      <td>0.000589</td>\n",
       "      <td>0.380139</td>\n",
       "      <td>8.664038</td>\n",
       "      <td>7.158170e+08</td>\n",
       "      <td>5.592321e+06</td>\n",
       "      <td>0.000589</td>\n",
       "      <td>0.973222</td>\n",
       "      <td>0.000390</td>\n",
       "      <td>0.303796</td>\n",
       "      <td>...</td>\n",
       "      <td>5.592321e+06</td>\n",
       "      <td>0.000522</td>\n",
       "      <td>0.975386</td>\n",
       "      <td>0.000354</td>\n",
       "      <td>0.284955</td>\n",
       "      <td>9.088979</td>\n",
       "      <td>7.158170e+08</td>\n",
       "      <td>5.592321e+06</td>\n",
       "      <td>0.000354</td>\n",
       "      <td>0.951499</td>\n",
       "    </tr>\n",
       "  </tbody>\n",
       "</table>\n",
       "<p>100 rows × 29 columns</p>\n",
       "</div>"
      ],
      "text/plain": [
       "                             path   energi0  homogenitas0  entropy0  \\\n",
       "0     Baked Potato-Train (1).jpeg  0.000201      0.294548  9.073811   \n",
       "1    Baked Potato-Train (10).jpeg  0.000202      0.236294  9.101231   \n",
       "2   Baked Potato-Train (100).jpeg  0.000814      0.207124  9.534639   \n",
       "3   Baked Potato-Train (101).jpeg  0.000443      0.239156  9.260319   \n",
       "4   Baked Potato-Train (102).jpeg  0.000241      0.234298  9.336668   \n",
       "..                            ...       ...           ...       ...   \n",
       "95       Taquito-Train (103).jpeg  0.012314      0.325171  8.547279   \n",
       "96       Taquito-Train (104).jpeg  0.000837      0.258244  9.075643   \n",
       "97       Taquito-Train (105).jpeg  0.000364      0.319435  8.999970   \n",
       "98       Taquito-Train (106).jpeg  0.000110      0.187621  9.638879   \n",
       "99       Taquito-Train (107).jpeg  0.000589      0.380139  8.664038   \n",
       "\n",
       "        contras0  dissimilarity0      ASM0  correlation0  energi45  \\\n",
       "0   7.158170e+08    5.592321e+06  0.000201      0.983194  0.000130   \n",
       "1   7.158170e+08    5.592321e+06  0.000202      0.956752  0.000160   \n",
       "2   7.158170e+08    5.592321e+06  0.000814      0.910519  0.000569   \n",
       "3   7.158170e+08    5.592321e+06  0.000443      0.978013  0.000252   \n",
       "4   7.158170e+08    5.592321e+06  0.000241      0.957913  0.000158   \n",
       "..           ...             ...       ...           ...       ...   \n",
       "95  7.158170e+08    5.592321e+06  0.012314      0.958233  0.010988   \n",
       "96  7.158170e+08    5.592321e+06  0.000837      0.959113  0.000589   \n",
       "97  7.158170e+08    5.592321e+06  0.000364      0.968630  0.000195   \n",
       "98  7.158170e+08    5.592321e+06  0.000110      0.924265  0.000079   \n",
       "99  7.158170e+08    5.592321e+06  0.000589      0.973222  0.000390   \n",
       "\n",
       "    homogenitas45  ...  dissimilarity90     ASM90  correlation90  energi135  \\\n",
       "0        0.226191  ...     5.592321e+06  0.000151       0.972596   0.000114   \n",
       "1        0.203044  ...     5.592321e+06  0.000226       0.957199   0.000151   \n",
       "2        0.171895  ...     5.592321e+06  0.000861       0.930030   0.000556   \n",
       "3        0.176395  ...     5.592321e+06  0.000351       0.967617   0.000252   \n",
       "4        0.179795  ...     5.592321e+06  0.000216       0.948389   0.000168   \n",
       "..            ...  ...              ...       ...            ...        ...   \n",
       "95       0.265885  ...     5.592321e+06  0.011557       0.943528   0.011021   \n",
       "96       0.204201  ...     5.592321e+06  0.000723       0.946423   0.000570   \n",
       "97       0.215539  ...     5.592321e+06  0.000235       0.959153   0.000179   \n",
       "98       0.147202  ...     5.592321e+06  0.000098       0.914194   0.000079   \n",
       "99       0.303796  ...     5.592321e+06  0.000522       0.975386   0.000354   \n",
       "\n",
       "    homogenitas135  entropy135    contras135  dissimilarity135    ASM135  \\\n",
       "0         0.208265    9.531414  7.158170e+08      5.592321e+06  0.000114   \n",
       "1         0.193738    9.342416  7.158170e+08      5.592321e+06  0.000151   \n",
       "2         0.170547    9.750358  7.158170e+08      5.592321e+06  0.000556   \n",
       "3         0.179906    9.604006  7.158170e+08      5.592321e+06  0.000252   \n",
       "4         0.189891    9.580891  7.158170e+08      5.592321e+06  0.000168   \n",
       "..             ...         ...           ...               ...       ...   \n",
       "95        0.266295    8.839264  7.158170e+08      5.592321e+06  0.011021   \n",
       "96        0.192448    9.457943  7.158170e+08      5.592321e+06  0.000570   \n",
       "97        0.207210    9.450244  7.158170e+08      5.592321e+06  0.000179   \n",
       "98        0.144852    9.906491  7.158170e+08      5.592321e+06  0.000079   \n",
       "99        0.284955    9.088979  7.158170e+08      5.592321e+06  0.000354   \n",
       "\n",
       "    correlation135  \n",
       "0         0.953382  \n",
       "1         0.929316  \n",
       "2         0.864304  \n",
       "3         0.954531  \n",
       "4         0.931710  \n",
       "..             ...  \n",
       "95        0.923387  \n",
       "96        0.915175  \n",
       "97        0.939134  \n",
       "98        0.873886  \n",
       "99        0.951499  \n",
       "\n",
       "[100 rows x 29 columns]"
      ]
     },
     "execution_count": 95,
     "metadata": {},
     "output_type": "execute_result"
    }
   ],
   "source": [
    "df"
   ]
  }
 ],
 "metadata": {
  "interpreter": {
   "hash": "7679c2132d3f6ce38c9df14d554b39c06862b36a4e6689c81f9ae15bd0911d7d"
  },
  "kernelspec": {
   "display_name": "Python 3 (ipykernel)",
   "language": "python",
   "name": "python3"
  },
  "language_info": {
   "codemirror_mode": {
    "name": "ipython",
    "version": 3
   },
   "file_extension": ".py",
   "mimetype": "text/x-python",
   "name": "python",
   "nbconvert_exporter": "python",
   "pygments_lexer": "ipython3",
   "version": "3.9.13"
  }
 },
 "nbformat": 4,
 "nbformat_minor": 2
}
